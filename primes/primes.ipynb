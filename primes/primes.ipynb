{
 "cells": [
  {
   "cell_type": "markdown",
   "id": "065a8a7c",
   "metadata": {},
   "source": [
    "<div class=\"licence\">\n",
    "<span>Licence CC BY-NC-ND</span>\n",
    "<span>Thierry Parmentelat &amp; Arnaud Legout</span>\n",
    "<span><img src=\"media/both-logos-small-alpha.png\" /></span>\n",
    "</div>"
   ]
  },
  {
   "cell_type": "markdown",
   "id": "1fb73273",
   "metadata": {},
   "source": [
    "# Exercice - niveau avancé"
   ]
  },
  {
   "cell_type": "markdown",
   "id": "645757d6",
   "metadata": {},
   "source": [
    "## itérateurs et générateurs\n",
    "\n",
    "**Tous les exercices** de ce notebook vous demandent d'écrire\n",
    "des fonctions qui **construisent des itérateurs**."
   ]
  },
  {
   "cell_type": "code",
   "execution_count": null,
   "id": "ccafccaa",
   "metadata": {},
   "outputs": [],
   "source": [
    "import itertools"
   ]
  },
  {
   "cell_type": "markdown",
   "id": "6f5bba04",
   "metadata": {},
   "source": [
    "## 1. Nombres premiers"
   ]
  },
  {
   "cell_type": "markdown",
   "id": "49019572",
   "metadata": {},
   "source": [
    "On vous demande d'écrire un générateur qui énumère les nombres premiers.\n",
    "\n",
    "Naturellement il existe de nombreuses biliothèques pour cela, mais on vous demande ici d'écrire votre propre algorithme, même s'il est naïf."
   ]
  },
  {
   "cell_type": "code",
   "execution_count": null,
   "id": "8ff24af1",
   "metadata": {},
   "outputs": [],
   "source": [
    "from corrections.gen_primes import exo_primes\n",
    "exo_primes.example()"
   ]
  },
  {
   "cell_type": "markdown",
   "id": "24b0163c",
   "metadata": {},
   "source": [
    "Le générateur ne s'arrête donc jamais, c'est un générateur infini comme `itertools.count()`.\n",
    "Le système de correction automatique est capable d'extraire certaines parties du flux du générateur, avec une convention voisine de `range()` et/ou du *slicing*.\n",
    "\n",
    "Ainsi par exemple le deuxième jeu de test, sous-titré `1 → 5 / 2`, va retenir les éléments énumérés par le générateur aux itérations *1, 3 et 5* - en commençant bien sûr à compter à 0."
   ]
  },
  {
   "cell_type": "markdown",
   "id": "89482a55",
   "metadata": {},
   "source": [
    "**NOTES**\n",
    "\n",
    "* Évidemment, il vous faut retourner un itérateur, et la correction automatique vérifiera ce point.\n",
    "* Notez aussi que, lorsqu'on cherche à déterminer si $n$ est entier, on a nécessairement déjà fait ce travail sur tous les entiers plus petits que $n$. Il est donc tentant, et fortement recommandé, de profiter de cette information pour accélérer l'algorithme.\n",
    "* Si votre algorithme est très lent ou faux, vous pouvez *perdre* le *kernel* (en français noyau), c'est-à-dire qu'il calcule pendant très longtemps (ou pour toujours) ; dans ces cas-là, la marge gauche indique `In [*]:` et l'étoile n'est jamais remplacée par un chiffre.\n",
    "  Il vous **faut alors interrompre** votre kernel ; pour cela utilisez le menu *Kernel* qui a des options pour interrompre ou redémarrer le kernel courant ; les raccourcis clavier `i i` et `0 0` permettent aussi d'interrompre et redémarrer le noyau."
   ]
  },
  {
   "cell_type": "code",
   "execution_count": null,
   "id": "0234ad47",
   "metadata": {},
   "outputs": [],
   "source": [
    "# à vous de jouer\n",
    "import itertools\n",
    "def primes():\n",
    "    # vous DEVEZ retourner un itérateur\n",
    "    # bien sûr count() n'est pas une bonne réponse...\n",
    "    inferior_primes = {}\n",
    "    for n in itertools.count(2):\n",
    "        for k in inferior_primes:\n",
    "            if n%k == 0:\n",
    "                break\n",
    "        else:\n",
    "            inferior_primes[n] = 0\n",
    "            yield n"
   ]
  },
  {
   "cell_type": "code",
   "execution_count": null,
   "id": "45fb18c7",
   "metadata": {},
   "outputs": [],
   "source": [
    "# pour corriger votre code\n",
    "exo_primes.correction(primes)"
   ]
  },
  {
   "cell_type": "markdown",
   "id": "59a60091",
   "metadata": {},
   "source": [
    "##### zone de debug"
   ]
  },
  {
   "cell_type": "code",
   "execution_count": null,
   "id": "df7bb34f",
   "metadata": {},
   "outputs": [],
   "source": [
    "# à toutes fins utiles\n",
    "\n",
    "MAX = 10\n",
    "\n",
    "iterator = primes()\n",
    "\n",
    "for index, prime in enumerate(itertools.islice(iterator, MAX)):\n",
    "    print(f\"{index} -> {prime}\")"
   ]
  },
  {
   "cell_type": "markdown",
   "id": "37ac4e81",
   "metadata": {},
   "source": [
    "***\n",
    "***\n",
    "***"
   ]
  },
  {
   "cell_type": "markdown",
   "id": "15298a17",
   "metadata": {},
   "source": [
    "## 2. Les carrés des nombres premiers"
   ]
  },
  {
   "cell_type": "markdown",
   "id": "43bc8f6d",
   "metadata": {},
   "source": [
    "On veut à présent énumérer les carrés des nombres premiers\n",
    "\n",
    "**NOTE** il y a au moins deux façons triviales de parvenir au résultat."
   ]
  },
  {
   "cell_type": "code",
   "execution_count": null,
   "id": "93345052",
   "metadata": {},
   "outputs": [],
   "source": [
    "from corrections.gen_primes import exo_prime_squares\n",
    "exo_prime_squares.example()"
   ]
  },
  {
   "cell_type": "code",
   "execution_count": null,
   "id": "7291055d",
   "metadata": {},
   "outputs": [],
   "source": [
    "# à vous\n",
    "\n",
    "def prime_squares():\n",
    "    for j in primes():\n",
    "        yield j**2"
   ]
  },
  {
   "cell_type": "code",
   "execution_count": null,
   "id": "13d8383a",
   "metadata": {},
   "outputs": [],
   "source": [
    "exo_prime_squares.correction(prime_squares)"
   ]
  },
  {
   "cell_type": "markdown",
   "id": "70cc9201",
   "metadata": {},
   "source": [
    "***\n",
    "***\n",
    "***"
   ]
  },
  {
   "cell_type": "markdown",
   "id": "9e072ca7",
   "metadata": {},
   "source": [
    "## 3. Combinaisons d'itérateurs"
   ]
  },
  {
   "cell_type": "markdown",
   "id": "40a4f59f",
   "metadata": {},
   "source": [
    "On vous demande d'écrire un itérateur qui énumère des couples :\n",
    "\n",
    "* en première position, on veut trouver les nombres premiers, mais avec un décalage :  \n",
    "  les **cinq premiers tuples** contiennent `1`, puis le sixième contient 2, et à partir de là les nombres premiers ;\n",
    "* en deuxième position, les carrés des nombres premiers, sans décalage :"
   ]
  },
  {
   "cell_type": "markdown",
   "id": "286e9353",
   "metadata": {},
   "source": [
    "**NOTE**  \n",
    "Il peut être tentant de créer deux instances de l'itérateur `primes()` ; toutefois c'est cet objet qui demande le plus de temps de calcul, aussi on vous suggère de réfléchir, en option, à une solution qui ne crée qu'un seul exemplaire de cet itérateur."
   ]
  },
  {
   "cell_type": "code",
   "execution_count": null,
   "id": "a986f30b",
   "metadata": {},
   "outputs": [],
   "source": [
    "from corrections.gen_primes import exo_prime_legos\n",
    "exo_prime_legos.example()"
   ]
  },
  {
   "cell_type": "code",
   "execution_count": null,
   "id": "1eabca09",
   "metadata": {},
   "outputs": [],
   "source": [
    "# à vous de jouer\n",
    "\n",
    "def prime_legos():\n",
    "    return zip(itertools.chain(itertools.repeat(1, 5), primes()), prime_squares())"
   ]
  },
  {
   "cell_type": "code",
   "execution_count": null,
   "id": "49be97fd",
   "metadata": {},
   "outputs": [],
   "source": [
    "exo_prime_legos.correction(prime_legos)"
   ]
  },
  {
   "cell_type": "markdown",
   "id": "44972036",
   "metadata": {},
   "source": [
    "##### zone de benchmarking\n",
    "\n",
    "un ordre de grandeur: pour le code suivant, ma solution prend environ 60ms  \n",
    "la cellule, qui fait le calcul 5 * 5 fois, prend environ 2s à afficher le résultat"
   ]
  },
  {
   "cell_type": "code",
   "execution_count": null,
   "id": "eabfcafb",
   "metadata": {},
   "outputs": [],
   "source": [
    "%%timeit -n 5 -r 5\n",
    "\n",
    "N = 10_000\n",
    "\n",
    "P = prime_legos()\n",
    "for x in range(N): next(P)"
   ]
  },
  {
   "cell_type": "markdown",
   "id": "32287e6a",
   "metadata": {},
   "source": [
    "***\n",
    "***\n",
    "***"
   ]
  },
  {
   "cell_type": "markdown",
   "id": "ec37873b",
   "metadata": {},
   "source": [
    "## 4. Les $n$-ièmes nombres premiers, avec $n$ premier"
   ]
  },
  {
   "cell_type": "markdown",
   "id": "6af93d41",
   "metadata": {},
   "source": [
    "On vous demande d'implémenter un itérateur qui renvoie les $n$-ièmes nombres premiers, mais seulement pour $n$ premier.\n",
    "\n",
    "Ainsi comme `primes()` retourne la suite\n",
    "\n",
    "| indice | premier |\n",
    "|--------|---------|\n",
    "| 0 | 2 |\n",
    "| 1 | 3 |\n",
    "| 2 | 5 |\n",
    "| 3 | 7 |\n",
    "| 4 | 11|\n",
    "| 5 | 13|\n",
    "| 6 | 17|\n",
    "| 7 | 19|\n",
    "\n",
    "on veut que `prime_th_primes` retourne la suite\n",
    "\n",
    "| indice | premier |\n",
    "|--------|---------|\n",
    "| 0 | 5 |\n",
    "| 1 | 7 |\n",
    "| 2 | 13|\n",
    "| 3 | 19|"
   ]
  },
  {
   "cell_type": "code",
   "execution_count": null,
   "id": "99f649ad",
   "metadata": {},
   "outputs": [],
   "source": [
    "# ce qui est illustré sur cet exemple calculé, qui va un peu plus loin\n",
    "\n",
    "from corrections.gen_primes import exo_prime_th_primes\n",
    "exo_prime_th_primes.example()"
   ]
  },
  {
   "cell_type": "code",
   "execution_count": null,
   "id": "75632991",
   "metadata": {},
   "outputs": [],
   "source": [
    "# À vous de jouer\n",
    "\n",
    "def prime_th_primes():\n",
    "    \n",
    "    pass"
   ]
  },
  {
   "cell_type": "code",
   "execution_count": null,
   "id": "8923c0e8",
   "metadata": {},
   "outputs": [],
   "source": [
    "# pour corriger votre code\n",
    "exo_prime_th_primes.correction(prime_th_primes)"
   ]
  },
  {
   "cell_type": "markdown",
   "id": "9b50898f",
   "metadata": {},
   "source": [
    "##### zone de benchmarking\n",
    "\n",
    "un ordre de grandeur: pour le code suivant, ma solution prend environ 150ms  \n",
    "la cellule, qui fait le calcul 3 * 3 fois, prend environ 1.5s à afficher le résultat"
   ]
  },
  {
   "cell_type": "code",
   "execution_count": null,
   "id": "cba8bde7",
   "metadata": {},
   "outputs": [],
   "source": [
    "%%timeit -n 3 -r 3\n",
    "\n",
    "N = 2_000\n",
    "\n",
    "P = prime_th_primes()\n",
    "for x in range(N): next(P)"
   ]
  },
  {
   "cell_type": "code",
   "execution_count": null,
   "id": "b6bafc10",
   "metadata": {},
   "outputs": [],
   "source": []
  }
 ],
 "metadata": {
  "jupytext": {
   "cell_metadata_filter": "all, -hidden, -heading_collapsed, -run_control, -trusted",
   "encoding": "# -*- coding: utf-8 -*-",
   "notebook_metadata_filter": "all, -jupytext.text_representation.jupytext_version, -jupytext.text_representation.format_version, -language_info.version, -language_info.codemirror_mode.version, -language_info.codemirror_mode, -language_info.file_extension, -language_info.mimetype, -toc",
   "text_representation": {
    "extension": ".md",
    "format_name": "myst"
   }
  },
  "kernelspec": {
   "display_name": "Python 3 (ipykernel)",
   "language": "python",
   "name": "python3"
  },
  "language_info": {
   "name": "python",
   "nbconvert_exporter": "python",
   "pygments_lexer": "ipython3"
  },
  "notebookname": "exercice: nombres premiers",
  "version": "3.0"
 },
 "nbformat": 4,
 "nbformat_minor": 5
}
