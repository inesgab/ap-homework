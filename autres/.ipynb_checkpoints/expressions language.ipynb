{
 "cells": [
  {
   "cell_type": "markdown",
   "id": "40322ee0",
   "metadata": {},
   "source": [
    "# un petit langage d'expressions"
   ]
  },
  {
   "cell_type": "markdown",
   "id": "be23b1df",
   "metadata": {},
   "source": [
    "## rappel\n",
    "\n",
    "On rappelle qu'en programmation, on distingue entre :\n",
    "* les expressions, qui sont des fragments de programme qui **s'évaluent** et qui retournent un résultat,\n",
    "* et les instructions, qui **s'exécutent**, ayant pour résultat de changer l'état du programme, sans pour autant retourner une valeur."
   ]
  },
  {
   "cell_type": "markdown",
   "id": "38d8b6c7",
   "metadata": {},
   "source": [
    "## état de l'art\n",
    "\n",
    "Traditionnellement (l'implémentation d')un langage est vu comme une suite d'opérations :\n",
    "\n",
    "* analyse lexicale et syntaxique :  \n",
    "  on manipule le code sous forme de texte, pour le transformer en une structure de données qui soit plus adaptée à toute la série de calculs qu'on doit faire dans les parties suivantes, puis\n",
    "* l'interprétation / compilation propremement dite."
   ]
  },
  {
   "cell_type": "markdown",
   "id": "0089e685",
   "metadata": {},
   "source": [
    "On se propose d'implémenter un petit langage d'expressions; \n",
    "en fait, seulement la seconde moitié, c'est-à-dire qu'on veut :\n",
    "\n",
    "* concevoir et implémenter cette structure de données intermédiaire qui représente le programme,\n",
    "* et partant de là on pourra effectivement évaluer les expressions."
   ]
  },
  {
   "cell_type": "markdown",
   "id": "4c13ce2a",
   "metadata": {},
   "source": [
    "## AST (abstract syntax trees)\n",
    "\n",
    "Une façon de représenter un programme consiste à définir ce qu'on appelle une syntaxe abstraite, c'est à dire un ensemble de symboles qui permettent d'étiqueter les noeuds d'un arbre, lui même représentant fidèlement le programme.\n",
    "\n",
    "Quelques exemples :"
   ]
  },
  {
   "cell_type": "markdown",
   "id": "83d7bc21",
   "metadata": {},
   "source": [
    "### v1 : nombres et 4 opérations\n",
    "\n",
    "Pour les expressions simples faisant intervenir les 4 opérations, on peut s'en sortir avec disons 7 symboles : *Plus*, *Minus*, *Multiply* et *Divide*, pour les 4 opérations, *Integer* et *Float* pour modéliser les opérandes qui apparaissent en clair dans le code, et *Negative* pour l'opération unaire qui calcule l'opposé.\n",
    "\n",
    "Dans ce monde-là, on représentera par exemple\n",
    "  \n",
    "* le fragment `(30 + 40 + 50) * (20 - 15)`  \n",
    "  par l'arbre \n",
    "  \n",
    "  ```\n",
    "  Multiply(Plus(Integer(30), Integer(40), Integer(50)),\n",
    "           Minus(Integer(20), Integer(15)))\n",
    "  ```\n",
    "                     \n",
    "* et le fragment `(4 + 1.) / -(4. + 12)`  \n",
    "  par l'arbre \n",
    "  \n",
    "  ```\n",
    "  Divide(Plus(Integer(4), Float(1)),\n",
    "         Negative(Plus(Float(4.), Integer(12))))\n",
    "  ```"
   ]
  },
  {
   "cell_type": "markdown",
   "id": "438d0b0e",
   "metadata": {},
   "source": [
    "###  v2 : variables et affectations\n",
    "    \n",
    "Si on souhaite sophistiquer un peu davantage, on peut introduire l'affectation comme une expression.  \n",
    "\n",
    "Pour digresser légèrement, on rappelle d'ailleurs que l'affectation usuelle en Python est une instruction et pas une expression (il y a d'ailleurs un nouvel opérateur en Python-3.8, qui se note `:=` et qui s'appelle le *walrus operator*, qui comble cette lacune).\n",
    "\n",
    "Nous nous écartons donc ici légèrement de la sémantique de Python, en décidant que dans notre langage une affectation est une expression, comme c'est le cas dans de nombreux langages réels (C++, Javascript,…)\n",
    "  \n",
    "Dans ce monde-ci, on ajoute 3 opérateurs : *Expressions*, *Assign* et *Variable*  \n",
    "et munis de ce vocabulaire on peut maintenant représenter\n",
    "  \n",
    "* le fragment  \n",
    "  ```\n",
    "  a := 20\n",
    "  a + 1\n",
    "  ```  \n",
    "* par l'arbre  \n",
    "  ```\n",
    "  Expressions(Assign(Variable(a), Int(20)),\n",
    "              Plus(Variable(a), Int(1)))\n",
    "  ```"
   ]
  },
  {
   "cell_type": "markdown",
   "id": "e6061d91",
   "metadata": {},
   "source": [
    "## objectif\n",
    "\n",
    "À nouveau, dans cet exercice on ne souhaite pas adresser l'analyse syntaxique, mais on vous demande\n",
    "\n",
    "* d'implémenter les classes correspondant aux opérateurs de la syntaxe abstraite,\n",
    "* qui permettent à la fois de construire l'AST,\n",
    "* et de l'évaluer.\n",
    "\n",
    "Cela signifie qu'on doit pouvoir écrire par exemple :"
   ]
  },
  {
   "cell_type": "code",
   "execution_count": 2,
   "id": "e3f4565d",
   "metadata": {},
   "outputs": [
    {
     "ename": "ModuleNotFoundError",
     "evalue": "No module named 'expressions'",
     "output_type": "error",
     "traceback": [
      "\u001b[0;31m---------------------------------------------------------------------------\u001b[0m",
      "\u001b[0;31mModuleNotFoundError\u001b[0m                       Traceback (most recent call last)",
      "Cell \u001b[0;32mIn [2], line 1\u001b[0m\n\u001b[0;32m----> 1\u001b[0m \u001b[38;5;28;01mfrom\u001b[39;00m \u001b[38;5;21;01mexpressions\u001b[39;00m \u001b[38;5;28;01mimport\u001b[39;00m (\n\u001b[1;32m      2\u001b[0m     Integer, Float, Negative, Plus, Minus, Multiply, Divide)\n",
      "\u001b[0;31mModuleNotFoundError\u001b[0m: No module named 'expressions'"
     ]
    }
   ],
   "source": [
    "from expressions import (\n",
    "    Integer, Float, Negative, Plus, Minus, Multiply, Divide)"
   ]
  },
  {
   "cell_type": "code",
   "execution_count": null,
   "id": "4edcf2da",
   "metadata": {},
   "outputs": [],
   "source": [
    "# construire une expression\n",
    "expression = Multiply(Plus(Integer(30), Integer(40), Integer(50)),\n",
    "                      Minus(Integer(20), Integer(15)))"
   ]
  },
  {
   "cell_type": "code",
   "execution_count": null,
   "id": "52a2de12",
   "metadata": {},
   "outputs": [],
   "source": [
    "# et l'évaluer\n",
    "expression.eval()"
   ]
  },
  {
   "cell_type": "markdown",
   "id": "6860f3d1",
   "metadata": {},
   "source": [
    "En outre, on s'efforcera de **factoriser au maximum le code**, et d'éviter dans toute la mesure du possible les répétitions fastidieuses.\n",
    "\n",
    "L'objectif est d'obtenir un code maintenable, dans lequel on puisse facilement ajouter des *features* (nouveaux opérateurs notamment)."
   ]
  },
  {
   "cell_type": "markdown",
   "id": "d526a9d0",
   "metadata": {},
   "source": [
    "## modalités"
   ]
  },
  {
   "cell_type": "markdown",
   "id": "e9216e96",
   "metadata": {},
   "source": [
    "Pour vous convaincre que vous avez bien répondu à la question, nous fournissons quelques cellules de test.\n",
    "\n",
    "En option vous pourrez aussi utiliser `pytest` pour tester votre code avec les deux tests unitaires suivants\n",
    "\n",
    "* v1: https://github.com/flotpython/exos/blob/main/python-tps/expressions-lang/test_expressionsv1.py\n",
    "* v2: https://github.com/flotpython/exos/blob/main/python-tps/expressions-lang/test_expressionsv2.py"
   ]
  },
  {
   "cell_type": "markdown",
   "id": "e89e324e",
   "metadata": {},
   "source": [
    "Parmi ce qui est attendu, à la construction des objets vous êtes censés vérifier qu'on **appelle** le **constructeur** avec un **nombre d'arguments correct**, et lancer une **exception `TypeError` sinon**."
   ]
  },
  {
   "cell_type": "code",
   "execution_count": null,
   "id": "c033eba7",
   "metadata": {},
   "outputs": [],
   "source": [
    "# ceci pour \"oublier\" les classes\n",
    "# que nous venons d'importer pour illustrer l'exemple\n",
    "del Integer, Float, Negative, Plus, Minus, Multiply, Divide"
   ]
  },
  {
   "cell_type": "markdown",
   "id": "5d5c1ef0",
   "metadata": {},
   "source": [
    "*****"
   ]
  },
  {
   "cell_type": "code",
   "execution_count": 189,
   "id": "93bd981e",
   "metadata": {},
   "outputs": [],
   "source": [
    "# votre code\n",
    "\n",
    "class Integer:\n",
    "    def __init__(self, value):\n",
    "        self.value = value\n",
    "    \n",
    "    def eval(self):\n",
    "        return self.value\n",
    "        \n",
    "\n",
    "class Float:\n",
    "    def __init__(self, value):\n",
    "        self.value = value\n",
    "    \n",
    "    def eval(self):\n",
    "        return float(self.value)\n",
    "\n",
    "class Negative:\n",
    "    def __init__(self, a):\n",
    "        self.a = a\n",
    "        \n",
    "    def eval(self):\n",
    "        return - self.a.eval()   \n",
    "\n",
    "class Plus:\n",
    "    def __init__(self, *numbers):\n",
    "        self.numbers = numbers\n",
    "        if len(numbers) < 2:\n",
    "            raise TypeError(\"wrong args\")\n",
    "    def eval(self):\n",
    "        A = 0\n",
    "        for number in self.numbers:\n",
    "            A += number.eval()\n",
    "        return A\n",
    "\n",
    "class Minus:\n",
    "    def __init__(self, a, b):\n",
    "        self.a = a\n",
    "        self.b = b\n",
    "        \n",
    "    def eval(self):\n",
    "        return self.a.eval() - self.b.eval()\n",
    "\n",
    "class Multiply:\n",
    "    def __init__(self, *numbers):\n",
    "        self.numbers = numbers\n",
    "        if len(numbers) < 2:\n",
    "            raise TypeError(\"wrong args\")\n",
    "        \n",
    "    def eval(self):\n",
    "        A = 1\n",
    "        for number in self.numbers:\n",
    "            A = A * number.eval()\n",
    "        return A\n",
    "\n",
    "class Divide:\n",
    "    def __init__(self, a, b):\n",
    "        self.a = a\n",
    "        self.b = b\n",
    "        \n",
    "    def eval(self):\n",
    "        return self.a.eval() / self.b.eval()\n"
   ]
  },
  {
   "cell_type": "markdown",
   "id": "4ed15465",
   "metadata": {},
   "source": [
    "### quelques tests"
   ]
  },
  {
   "cell_type": "code",
   "execution_count": 147,
   "id": "84107619",
   "metadata": {},
   "outputs": [
    {
     "name": "stdout",
     "output_type": "stream",
     "text": [
      "10\n"
     ]
    }
   ],
   "source": [
    "tree = Integer(10); print(tree.eval())"
   ]
  },
  {
   "cell_type": "code",
   "execution_count": 148,
   "id": "f4dab954",
   "metadata": {},
   "outputs": [
    {
     "name": "stdout",
     "output_type": "stream",
     "text": [
      "-10\n"
     ]
    }
   ],
   "source": [
    "tree = Negative(Integer(10)); print(tree.eval())"
   ]
  },
  {
   "cell_type": "code",
   "execution_count": 149,
   "id": "8cb48ee8",
   "metadata": {},
   "outputs": [
    {
     "name": "stdout",
     "output_type": "stream",
     "text": [
      "30\n"
     ]
    }
   ],
   "source": [
    "tree = Plus(Integer(10), Integer(20)); print(tree.eval())"
   ]
  },
  {
   "cell_type": "code",
   "execution_count": 150,
   "id": "7c25db1c",
   "metadata": {},
   "outputs": [
    {
     "name": "stdout",
     "output_type": "stream",
     "text": [
      "60\n"
     ]
    }
   ],
   "source": [
    "tree = Plus(Integer(10), Integer(20), Integer(30)); print(tree.eval())"
   ]
  },
  {
   "cell_type": "code",
   "execution_count": 151,
   "id": "082b7d65",
   "metadata": {},
   "outputs": [
    {
     "name": "stdout",
     "output_type": "stream",
     "text": [
      "24\n"
     ]
    }
   ],
   "source": [
    "tree = Multiply(Integer(2), Integer(3), Integer(4)); print(tree.eval())"
   ]
  },
  {
   "cell_type": "code",
   "execution_count": 152,
   "id": "2ea79112",
   "metadata": {},
   "outputs": [
    {
     "name": "stdout",
     "output_type": "stream",
     "text": [
      "0.5\n"
     ]
    }
   ],
   "source": [
    "# 0.5\n",
    "tree = Divide(Integer(10), Integer(20)); print(tree.eval())"
   ]
  },
  {
   "cell_type": "code",
   "execution_count": 153,
   "id": "d950f2e4",
   "metadata": {},
   "outputs": [
    {
     "name": "stdout",
     "output_type": "stream",
     "text": [
      "200\n"
     ]
    }
   ],
   "source": [
    "tree = Multiply(Integer(10), Integer(20)); print(tree.eval())"
   ]
  },
  {
   "cell_type": "code",
   "execution_count": 192,
   "id": "b4db7a0e",
   "metadata": {},
   "outputs": [
    {
     "name": "stdout",
     "output_type": "stream",
     "text": [
      "6000\n"
     ]
    },
    {
     "data": {
      "text/plain": [
       "\"<class '__main__.Multiply'>\""
      ]
     },
     "execution_count": 192,
     "metadata": {},
     "output_type": "execute_result"
    }
   ],
   "source": [
    "tree = Multiply(Integer(10), Integer(20), Integer(30)); print(tree.eval())\n",
    "ty = type(tree)\n",
    "str(ty)"
   ]
  },
  {
   "cell_type": "code",
   "execution_count": 155,
   "id": "3a404f1e",
   "metadata": {},
   "outputs": [],
   "source": [
    "tree = Multiply(\n",
    "    Plus(Multiply(Integer(10), Integer(2)), Integer(30)),\n",
    "    Multiply(Negative(Integer(4)), Integer(25)))\n",
    "\n",
    "assert tree.eval() == -5000"
   ]
  },
  {
   "cell_type": "code",
   "execution_count": 156,
   "id": "b9c69d09",
   "metadata": {},
   "outputs": [],
   "source": [
    "tree = Plus(Multiply(Integer(10), Integer(2)), \n",
    "            Negative(Negative(Integer(30))),\n",
    "            Minus(Integer(100), Integer(50)))\n",
    "\n",
    "assert tree.eval() == 100"
   ]
  },
  {
   "cell_type": "code",
   "execution_count": 170,
   "id": "f34c847b",
   "metadata": {},
   "outputs": [],
   "source": [
    "tree = Multiply(\n",
    "    Plus(Integer(30), Integer(40), Integer(50)),\n",
    "        Minus(Integer(20), Integer(15)))\n",
    "assert tree.eval() == 600"
   ]
  },
  {
   "cell_type": "code",
   "execution_count": 171,
   "id": "8f58f988",
   "metadata": {},
   "outputs": [],
   "source": [
    "tree = Negative(\n",
    "    Plus(Float(10), Negative(Integer(20))))\n",
    "\n",
    "assert tree.eval() == 10."
   ]
  },
  {
   "cell_type": "code",
   "execution_count": 159,
   "id": "5a1174ba",
   "metadata": {},
   "outputs": [],
   "source": [
    "tree = Divide(Integer(10), Integer(4))\n",
    "assert tree.eval() == 2.5"
   ]
  },
  {
   "cell_type": "code",
   "execution_count": 160,
   "id": "1b951e84",
   "metadata": {},
   "outputs": [
    {
     "name": "stdout",
     "output_type": "stream",
     "text": [
      "OK\n"
     ]
    }
   ],
   "source": [
    "# ces cellules devraient toutes afficher OK\n",
    "try:\n",
    "    Plus()\n",
    "except TypeError:\n",
    "    print(\"OK\")"
   ]
  },
  {
   "cell_type": "code",
   "execution_count": 161,
   "id": "9afaf193",
   "metadata": {},
   "outputs": [
    {
     "name": "stdout",
     "output_type": "stream",
     "text": [
      "OK\n"
     ]
    }
   ],
   "source": [
    "try:\n",
    "    Divide()\n",
    "except TypeError:\n",
    "    print(\"OK\")"
   ]
  },
  {
   "cell_type": "code",
   "execution_count": 162,
   "id": "c0d0cd26",
   "metadata": {},
   "outputs": [
    {
     "name": "stdout",
     "output_type": "stream",
     "text": [
      "OK\n"
     ]
    }
   ],
   "source": [
    "try:\n",
    "    Negative(Integer(1), Integer(1))\n",
    "except TypeError:\n",
    "    print(\"OK\")"
   ]
  },
  {
   "cell_type": "code",
   "execution_count": 163,
   "id": "37c7bffa",
   "metadata": {},
   "outputs": [
    {
     "name": "stdout",
     "output_type": "stream",
     "text": [
      "OK\n"
     ]
    }
   ],
   "source": [
    "# ces cellules devraient toutes afficher OK\n",
    "try:\n",
    "    Multiply(Integer(1))\n",
    "except TypeError:\n",
    "    print(\"OK\")"
   ]
  },
  {
   "cell_type": "code",
   "execution_count": 164,
   "id": "fc58954c",
   "metadata": {},
   "outputs": [
    {
     "name": "stdout",
     "output_type": "stream",
     "text": [
      "OK\n"
     ]
    }
   ],
   "source": [
    "try:\n",
    "    Plus(Integer(1))\n",
    "except TypeError:\n",
    "    print(\"OK\")"
   ]
  },
  {
   "cell_type": "code",
   "execution_count": 165,
   "id": "be58f33f",
   "metadata": {},
   "outputs": [
    {
     "name": "stdout",
     "output_type": "stream",
     "text": [
      "OK\n"
     ]
    }
   ],
   "source": [
    "try:\n",
    "    Divide(Integer(10), Integer(20), Integer(30))\n",
    "except TypeError:\n",
    "    print(\"OK\")"
   ]
  },
  {
   "cell_type": "code",
   "execution_count": 166,
   "id": "ea7ab727",
   "metadata": {},
   "outputs": [
    {
     "name": "stdout",
     "output_type": "stream",
     "text": [
      "OK\n"
     ]
    }
   ],
   "source": [
    "try:\n",
    "    Negative(Integer(10), Integer(20))\n",
    "except TypeError:\n",
    "    print(\"OK\")"
   ]
  },
  {
   "cell_type": "markdown",
   "id": "7f8bada7",
   "metadata": {},
   "source": [
    "****"
   ]
  },
  {
   "cell_type": "markdown",
   "id": "f6624da0",
   "metadata": {},
   "source": [
    "## v2"
   ]
  },
  {
   "cell_type": "markdown",
   "id": "e1b02bd2",
   "metadata": {},
   "source": [
    "une fois que vous avez fait ce premier noyau, vous pouvez étendre votre langage pour y ajouter l'affectation et les variables; la seule différence de taille par rapport au premier exercice est qu'il va nous falloir propager l'environnement (les valeurs des variables).\n",
    "\n",
    "pour cela je vous recommande d'envisager une méthode d'évaluation\n",
    "\n",
    "`expression.eval(env)`  plutôt que `expression.eval()` \n",
    "\n",
    "dans laquelle `env` est un dictionnaire qui associe le nom d'une variable avec sa valeur."
   ]
  },
  {
   "cell_type": "code",
   "execution_count": 257,
   "id": "335e82d5",
   "metadata": {},
   "outputs": [],
   "source": [
    "##V2\n",
    "class Integer:\n",
    "    def __init__(self, value):\n",
    "        self.value = value\n",
    "    \n",
    "    def eval(self, env):\n",
    "        return self.value\n",
    "        \n",
    "\n",
    "class Float:\n",
    "    def __init__(self, value):\n",
    "        self.value = value\n",
    "    \n",
    "    def eval(self, env):\n",
    "        return float(self.value)\n",
    "\n",
    "class Negative:\n",
    "    def __init__(self, a):\n",
    "        self.a = a\n",
    "        \n",
    "    def eval(self, env):\n",
    "        return - self.a.eval(env)   \n",
    "\n",
    "class Plus:\n",
    "    def __init__(self, *numbers):\n",
    "        self.numbers = numbers\n",
    "        if len(numbers) < 2:\n",
    "            raise TypeError(\"wrong args\")\n",
    "    def eval(self, env):\n",
    "        A = 0\n",
    "        for number in self.numbers:\n",
    "            A += number.eval(env)\n",
    "        return A\n",
    "\n",
    "class Minus:\n",
    "    def __init__(self, a, b):\n",
    "        self.a = a\n",
    "        self.b = b\n",
    "        \n",
    "    def eval(self, env):\n",
    "        return self.a.eval(env) - self.b.eval(env)\n",
    "\n",
    "class Multiply:\n",
    "    def __init__(self, *numbers):\n",
    "        self.numbers = numbers\n",
    "        if len(numbers) < 2:\n",
    "            raise TypeError(\"wrong args\")\n",
    "        \n",
    "    def eval(self, env):\n",
    "        A = 1\n",
    "        for number in self.numbers:\n",
    "            A = A * number.eval(env)\n",
    "        return A\n",
    "\n",
    "class Divide:\n",
    "    def __init__(self, a, b):\n",
    "        self.a = a\n",
    "        self.b = b\n",
    "        \n",
    "    def eval(self):\n",
    "        return self.a.eval(env) / self.b.eval(env)\n",
    "\n",
    "class Expressions:\n",
    "    def __init__(self, *actions):\n",
    "        self.actions = actions\n",
    "        self.env = {}\n",
    "    \n",
    "    def eval(self):\n",
    "        for action in self.actions:\n",
    "            action.eval(self.env)\n",
    "            \n",
    "\n",
    "class Assignment:\n",
    "    def __init__(self, nom, value):\n",
    "        self.nom = nom\n",
    "        self.value = value\n",
    "        \n",
    "    def eval(self, env):\n",
    "        env[self.nom] = self.value\n",
    "\n",
    "class Variable:\n",
    "    def __init__(self, nom):\n",
    "        self.nom = nom\n",
    "    \n",
    "    def eval(self, env):\n",
    "        return env[self.nom].eval(env)"
   ]
  },
  {
   "cell_type": "code",
   "execution_count": 258,
   "id": "a8b21819",
   "metadata": {},
   "outputs": [
    {
     "ename": "ModuleNotFoundError",
     "evalue": "No module named 'expressionsv2'",
     "output_type": "error",
     "traceback": [
      "\u001b[0;31m---------------------------------------------------------------------------\u001b[0m",
      "\u001b[0;31mModuleNotFoundError\u001b[0m                       Traceback (most recent call last)",
      "Cell \u001b[0;32mIn [258], line 1\u001b[0m\n\u001b[0;32m----> 1\u001b[0m \u001b[38;5;28;01mfrom\u001b[39;00m \u001b[38;5;21;01mexpressionsv2\u001b[39;00m \u001b[38;5;28;01mimport\u001b[39;00m (\n\u001b[1;32m      2\u001b[0m     Integer, Float, Negative, Plus, Minus, Multiply, Divide,\n\u001b[1;32m      3\u001b[0m     Expressions, Assignment, Variable\n\u001b[1;32m      4\u001b[0m     )\n",
      "\u001b[0;31mModuleNotFoundError\u001b[0m: No module named 'expressionsv2'"
     ]
    }
   ],
   "source": [
    "from expressionsv2 import (\n",
    "    Integer, Float, Negative, Plus, Minus, Multiply, Divide,\n",
    "    Expressions, Assignment, Variable\n",
    "    )"
   ]
  },
  {
   "cell_type": "code",
   "execution_count": 259,
   "id": "35a3632b",
   "metadata": {},
   "outputs": [
    {
     "ename": "AssertionError",
     "evalue": "",
     "output_type": "error",
     "traceback": [
      "\u001b[0;31m---------------------------------------------------------------------------\u001b[0m",
      "\u001b[0;31mAssertionError\u001b[0m                            Traceback (most recent call last)",
      "Cell \u001b[0;32mIn [259], line 7\u001b[0m\n\u001b[1;32m      1\u001b[0m program1 \u001b[38;5;241m=\u001b[39m Expressions(\n\u001b[1;32m      2\u001b[0m     Assignment(\u001b[38;5;124m\"\u001b[39m\u001b[38;5;124ma\u001b[39m\u001b[38;5;124m\"\u001b[39m, Integer(\u001b[38;5;241m10\u001b[39m)),\n\u001b[1;32m      3\u001b[0m     Assignment(\u001b[38;5;124m\"\u001b[39m\u001b[38;5;124mb\u001b[39m\u001b[38;5;124m\"\u001b[39m, Integer(\u001b[38;5;241m20\u001b[39m)),\n\u001b[1;32m      4\u001b[0m     Plus(Variable(\u001b[38;5;124m\"\u001b[39m\u001b[38;5;124ma\u001b[39m\u001b[38;5;124m\"\u001b[39m), Variable(\u001b[38;5;124m\"\u001b[39m\u001b[38;5;124mb\u001b[39m\u001b[38;5;124m\"\u001b[39m)),\n\u001b[1;32m      5\u001b[0m )\n\u001b[0;32m----> 7\u001b[0m \u001b[38;5;28;01massert\u001b[39;00m program1\u001b[38;5;241m.\u001b[39meval() \u001b[38;5;241m==\u001b[39m \u001b[38;5;241m30\u001b[39m\n",
      "\u001b[0;31mAssertionError\u001b[0m: "
     ]
    }
   ],
   "source": [
    "program1 = Expressions(\n",
    "    Assignment(\"a\", Integer(10)),\n",
    "    Assignment(\"b\", Integer(20)),\n",
    "    Plus(Variable(\"a\"), Variable(\"b\")),\n",
    ")\n",
    "\n",
    "assert program1.eval() == 30"
   ]
  },
  {
   "cell_type": "code",
   "execution_count": 252,
   "id": "bcb4d6c0",
   "metadata": {},
   "outputs": [
    {
     "ename": "TypeError",
     "evalue": "unsupported operand type(s) for +=: 'int' and 'NoneType'",
     "output_type": "error",
     "traceback": [
      "\u001b[0;31m---------------------------------------------------------------------------\u001b[0m",
      "\u001b[0;31mTypeError\u001b[0m                                 Traceback (most recent call last)",
      "Cell \u001b[0;32mIn [252], line 13\u001b[0m\n\u001b[1;32m      1\u001b[0m \u001b[38;5;124;03m\"\"\"\u001b[39;00m\n\u001b[1;32m      2\u001b[0m \u001b[38;5;124;03ma = 2 + (b := 2) # env = {'a': 4, 'b': 2}\u001b[39;00m\n\u001b[1;32m      3\u001b[0m \u001b[38;5;124;03mb = a * b        # env = {'a': 4, 'b': 8}\u001b[39;00m\n\u001b[1;32m      4\u001b[0m \u001b[38;5;124;03mb * b            # env - unchanged\u001b[39;00m\n\u001b[1;32m      5\u001b[0m \u001b[38;5;124;03m\"\"\"\u001b[39;00m\n\u001b[1;32m      6\u001b[0m program2 \u001b[38;5;241m=\u001b[39m Expressions(\n\u001b[1;32m      7\u001b[0m     Assignment(\u001b[38;5;124m\"\u001b[39m\u001b[38;5;124ma\u001b[39m\u001b[38;5;124m\"\u001b[39m, Plus(Integer(\u001b[38;5;241m2\u001b[39m),\n\u001b[1;32m      8\u001b[0m                          Assignment(\u001b[38;5;124m\"\u001b[39m\u001b[38;5;124mb\u001b[39m\u001b[38;5;124m\"\u001b[39m, Integer(\u001b[38;5;241m2\u001b[39m)))),\n\u001b[1;32m      9\u001b[0m     Assignment(\u001b[38;5;124m\"\u001b[39m\u001b[38;5;124mb\u001b[39m\u001b[38;5;124m\"\u001b[39m, Multiply(Variable(\u001b[38;5;124m\"\u001b[39m\u001b[38;5;124ma\u001b[39m\u001b[38;5;124m\"\u001b[39m), Variable(\u001b[38;5;124m\"\u001b[39m\u001b[38;5;124mb\u001b[39m\u001b[38;5;124m\"\u001b[39m))),\n\u001b[1;32m     10\u001b[0m     Multiply(Variable(\u001b[38;5;124m\"\u001b[39m\u001b[38;5;124mb\u001b[39m\u001b[38;5;124m\"\u001b[39m), Variable(\u001b[38;5;124m\"\u001b[39m\u001b[38;5;124mb\u001b[39m\u001b[38;5;124m\"\u001b[39m)),\n\u001b[1;32m     11\u001b[0m )\n\u001b[0;32m---> 13\u001b[0m \u001b[38;5;28;01massert\u001b[39;00m \u001b[43mprogram2\u001b[49m\u001b[38;5;241;43m.\u001b[39;49m\u001b[43meval\u001b[49m\u001b[43m(\u001b[49m\u001b[43m)\u001b[49m \u001b[38;5;241m==\u001b[39m \u001b[38;5;241m64\u001b[39m\n",
      "Cell \u001b[0;32mIn [249], line 70\u001b[0m, in \u001b[0;36mExpressions.eval\u001b[0;34m(self)\u001b[0m\n\u001b[1;32m     68\u001b[0m \u001b[38;5;28;01mdef\u001b[39;00m \u001b[38;5;21meval\u001b[39m(\u001b[38;5;28mself\u001b[39m):\n\u001b[1;32m     69\u001b[0m     \u001b[38;5;28;01mfor\u001b[39;00m action \u001b[38;5;129;01min\u001b[39;00m \u001b[38;5;28mself\u001b[39m\u001b[38;5;241m.\u001b[39mactions:\n\u001b[0;32m---> 70\u001b[0m         \u001b[43maction\u001b[49m\u001b[38;5;241;43m.\u001b[39;49m\u001b[43meval\u001b[49m\u001b[43m(\u001b[49m\u001b[38;5;28;43mself\u001b[39;49m\u001b[38;5;241;43m.\u001b[39;49m\u001b[43menv\u001b[49m\u001b[43m)\u001b[49m\n",
      "Cell \u001b[0;32mIn [249], line 52\u001b[0m, in \u001b[0;36mMultiply.eval\u001b[0;34m(self, env)\u001b[0m\n\u001b[1;32m     50\u001b[0m A \u001b[38;5;241m=\u001b[39m \u001b[38;5;241m1\u001b[39m\n\u001b[1;32m     51\u001b[0m \u001b[38;5;28;01mfor\u001b[39;00m number \u001b[38;5;129;01min\u001b[39;00m \u001b[38;5;28mself\u001b[39m\u001b[38;5;241m.\u001b[39mnumbers:\n\u001b[0;32m---> 52\u001b[0m     A \u001b[38;5;241m=\u001b[39m A \u001b[38;5;241m*\u001b[39m \u001b[43mnumber\u001b[49m\u001b[38;5;241;43m.\u001b[39;49m\u001b[43meval\u001b[49m\u001b[43m(\u001b[49m\u001b[43menv\u001b[49m\u001b[43m)\u001b[49m\n\u001b[1;32m     53\u001b[0m \u001b[38;5;28;01mreturn\u001b[39;00m A\n",
      "Cell \u001b[0;32mIn [249], line 85\u001b[0m, in \u001b[0;36mVariable.eval\u001b[0;34m(self, env)\u001b[0m\n\u001b[1;32m     84\u001b[0m \u001b[38;5;28;01mdef\u001b[39;00m \u001b[38;5;21meval\u001b[39m(\u001b[38;5;28mself\u001b[39m, env):\n\u001b[0;32m---> 85\u001b[0m     \u001b[38;5;28;01mreturn\u001b[39;00m \u001b[43menv\u001b[49m\u001b[43m[\u001b[49m\u001b[38;5;28;43mself\u001b[39;49m\u001b[38;5;241;43m.\u001b[39;49m\u001b[43mnom\u001b[49m\u001b[43m]\u001b[49m\u001b[38;5;241;43m.\u001b[39;49m\u001b[43meval\u001b[49m\u001b[43m(\u001b[49m\u001b[43menv\u001b[49m\u001b[43m)\u001b[49m\n",
      "Cell \u001b[0;32mIn [249], line 52\u001b[0m, in \u001b[0;36mMultiply.eval\u001b[0;34m(self, env)\u001b[0m\n\u001b[1;32m     50\u001b[0m A \u001b[38;5;241m=\u001b[39m \u001b[38;5;241m1\u001b[39m\n\u001b[1;32m     51\u001b[0m \u001b[38;5;28;01mfor\u001b[39;00m number \u001b[38;5;129;01min\u001b[39;00m \u001b[38;5;28mself\u001b[39m\u001b[38;5;241m.\u001b[39mnumbers:\n\u001b[0;32m---> 52\u001b[0m     A \u001b[38;5;241m=\u001b[39m A \u001b[38;5;241m*\u001b[39m \u001b[43mnumber\u001b[49m\u001b[38;5;241;43m.\u001b[39;49m\u001b[43meval\u001b[49m\u001b[43m(\u001b[49m\u001b[43menv\u001b[49m\u001b[43m)\u001b[49m\n\u001b[1;32m     53\u001b[0m \u001b[38;5;28;01mreturn\u001b[39;00m A\n",
      "Cell \u001b[0;32mIn [249], line 85\u001b[0m, in \u001b[0;36mVariable.eval\u001b[0;34m(self, env)\u001b[0m\n\u001b[1;32m     84\u001b[0m \u001b[38;5;28;01mdef\u001b[39;00m \u001b[38;5;21meval\u001b[39m(\u001b[38;5;28mself\u001b[39m, env):\n\u001b[0;32m---> 85\u001b[0m     \u001b[38;5;28;01mreturn\u001b[39;00m \u001b[43menv\u001b[49m\u001b[43m[\u001b[49m\u001b[38;5;28;43mself\u001b[39;49m\u001b[38;5;241;43m.\u001b[39;49m\u001b[43mnom\u001b[49m\u001b[43m]\u001b[49m\u001b[38;5;241;43m.\u001b[39;49m\u001b[43meval\u001b[49m\u001b[43m(\u001b[49m\u001b[43menv\u001b[49m\u001b[43m)\u001b[49m\n",
      "Cell \u001b[0;32mIn [249], line 32\u001b[0m, in \u001b[0;36mPlus.eval\u001b[0;34m(self, env)\u001b[0m\n\u001b[1;32m     30\u001b[0m A \u001b[38;5;241m=\u001b[39m \u001b[38;5;241m0\u001b[39m\n\u001b[1;32m     31\u001b[0m \u001b[38;5;28;01mfor\u001b[39;00m number \u001b[38;5;129;01min\u001b[39;00m \u001b[38;5;28mself\u001b[39m\u001b[38;5;241m.\u001b[39mnumbers:\n\u001b[0;32m---> 32\u001b[0m     A \u001b[38;5;241m+\u001b[39m\u001b[38;5;241m=\u001b[39m number\u001b[38;5;241m.\u001b[39meval(env)\n\u001b[1;32m     33\u001b[0m \u001b[38;5;28;01mreturn\u001b[39;00m A\n",
      "\u001b[0;31mTypeError\u001b[0m: unsupported operand type(s) for +=: 'int' and 'NoneType'"
     ]
    }
   ],
   "source": [
    "\"\"\"\n",
    "a = 2 + (b := 2) # env = {'a': 4, 'b': 2}\n",
    "b = a * b        # env = {'a': 4, 'b': 8}\n",
    "b * b            # env - unchanged\n",
    "\"\"\"\n",
    "program2 = Expressions(\n",
    "    Assignment(\"a\", Plus(Integer(2),\n",
    "                         Assignment(\"b\", Integer(2)))),\n",
    "    Assignment(\"b\", Multiply(Variable(\"a\"), Variable(\"b\"))),\n",
    "    Multiply(Variable(\"b\"), Variable(\"b\")),\n",
    ")\n",
    "\n",
    "assert program2.eval() == 64"
   ]
  },
  {
   "cell_type": "markdown",
   "id": "d6f93075",
   "metadata": {},
   "source": [
    "## annexe"
   ]
  },
  {
   "cell_type": "markdown",
   "id": "d2d7393d",
   "metadata": {},
   "source": [
    "un résumé des opérateurs et de leurs arités respectives"
   ]
  },
  {
   "cell_type": "markdown",
   "id": "def20a1a",
   "metadata": {
    "cell_style": "split"
   },
   "source": [
    "### v1\n",
    "\n",
    "| Opérateur | arité |\n",
    "|-----------|-------|\n",
    "| Integer   | 1     |\n",
    "| Float     | 1     |\n",
    "| Negative  | 1     |\n",
    "| Plus      | n>=2  |\n",
    "| Minus     | 2     |\n",
    "| Multiply  | n>=2  |\n",
    "| Divide    | 2     |"
   ]
  },
  {
   "cell_type": "markdown",
   "id": "ecf9a092",
   "metadata": {
    "cell_style": "split"
   },
   "source": [
    "### v2\n",
    "\n",
    "| Opérateur   | arité |\n",
    "|-------------|-------|\n",
    "| Expressions | n>=1  |\n",
    "| Variable    | 1     |\n",
    "| Assignment  | 2     |"
   ]
  }
 ],
 "metadata": {
  "jupytext": {
   "cell_metadata_filter": "all,-hidden,-heading_collapsed,-run_control,-trusted",
   "encoding": "# -*- coding: utf-8 -*-",
   "notebook_metadata_filter": "all, -jupytext.text_representation.jupytext_version, -jupytext.text_representation.format_version, -language_info.version, -language_info.codemirror_mode.version, -language_info.codemirror_mode, -language_info.file_extension, -language_info.mimetype, -toc"
  },
  "kernelspec": {
   "display_name": "Python 3 (ipykernel)",
   "language": "python",
   "name": "python3"
  },
  "language_info": {
   "codemirror_mode": {
    "name": "ipython",
    "version": 3
   },
   "file_extension": ".py",
   "mimetype": "text/x-python",
   "name": "python",
   "nbconvert_exporter": "python",
   "pygments_lexer": "ipython3",
   "version": "3.9.12"
  },
  "nbhosting": {
   "title": "TP: langage d'expressions"
  },
  "source_map": [
   21,
   25,
   33,
   43,
   51,
   59,
   83,
   107,
   119,
   124,
   130,
   133,
   139,
   143,
   152,
   156,
   160,
   164,
   187,
   191,
   195,
   199,
   203,
   207,
   211,
   216,
   220,
   224,
   232,
   240,
   248,
   255,
   260,
   268,
   275,
   282,
   290,
   297,
   304,
   309,
   313,
   317,
   327,
   334,
   344,
   358,
   362,
   366,
   380
  ]
 },
 "nbformat": 4,
 "nbformat_minor": 5
}
