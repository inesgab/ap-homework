{
 "cells": [
  {
   "cell_type": "markdown",
   "id": "2b972fe1",
   "metadata": {},
   "source": [
    "<div class=\"licence\">\n",
    "<span>Licence CC BY-NC-ND</span>\n",
    "<span>Thierry Parmentelat &amp; Arnaud Legout</span>\n",
    "<span><img src=\"media/both-logos-small-alpha.png\" /></span>\n",
    "</div>"
   ]
  },
  {
   "cell_type": "markdown",
   "id": "bc66e2d3",
   "metadata": {},
   "source": [
    "# Compréhensions"
   ]
  },
  {
   "cell_type": "markdown",
   "id": "3581b582",
   "metadata": {},
   "source": [
    "## Exercice - niveau basique\n",
    "\n",
    "Il vous est demandé d'écrire une fonction `aplatir` qui prend *un unique* argument `l_conteneurs` qui est une liste (ou plus généralement un itérable) de conteneurs (ou plus généralement d'itérables), et qui retourne la liste de tous les éléments de tous les conteneurs."
   ]
  },
  {
   "cell_type": "code",
   "execution_count": null,
   "id": "0f710000",
   "metadata": {},
   "outputs": [],
   "source": [
    "# par exemple\n",
    "from corrections.exo_aplatir import exo_aplatir\n",
    "exo_aplatir.example()"
   ]
  },
  {
   "cell_type": "code",
   "execution_count": null,
   "id": "4fa49d38",
   "metadata": {},
   "outputs": [],
   "source": [
    "def aplatir(*l_conteneurs):\n",
    "    return [i for conteneur in l_conteneurs\n",
    "           for elt in conteneur\n",
    "           for i in elt]"
   ]
  },
  {
   "cell_type": "code",
   "execution_count": null,
   "id": "b21581c7",
   "metadata": {},
   "outputs": [],
   "source": [
    "# vérifier votre code\n",
    "exo_aplatir.correction(aplatir)"
   ]
  },
  {
   "cell_type": "markdown",
   "id": "be4dad65",
   "metadata": {},
   "source": [
    "## Exercice - niveau intermédiaire\n",
    "\n",
    "À présent, on passe en argument deux conteneurs (deux itérables) `c1` et `c2` de même taille à la fonction `alternat`, qui doit construire une liste contenant les éléments pris alternativement dans `c1` et dans `c2`."
   ]
  },
  {
   "cell_type": "code",
   "execution_count": null,
   "id": "ffd11ea1",
   "metadata": {},
   "outputs": [],
   "source": [
    "# exemple\n",
    "from corrections.exo_alternat import exo_alternat\n",
    "exo_alternat.example()"
   ]
  },
  {
   "cell_type": "markdown",
   "id": "26bed5e7",
   "metadata": {},
   "source": [
    "**Indice** pour cet exercice il peut être pertinent de recourir à la fonction *built-in* `zip`."
   ]
  },
  {
   "cell_type": "code",
   "execution_count": null,
   "id": "9e7379cb",
   "metadata": {},
   "outputs": [],
   "source": [
    "def alternat(c1, c2):\n",
    "    return aplatir([(c1[i], c2[i]) for i, elt in enumerate(c1)])"
   ]
  },
  {
   "cell_type": "code",
   "execution_count": null,
   "id": "4e220c37",
   "metadata": {},
   "outputs": [],
   "source": [
    "# pour vérifier votre code\n",
    "exo_alternat.correction(alternat)"
   ]
  },
  {
   "cell_type": "markdown",
   "id": "e6c1cee6",
   "metadata": {},
   "source": [
    "## Exercice - niveau intermédiaire"
   ]
  },
  {
   "cell_type": "markdown",
   "id": "a8a90908",
   "metadata": {},
   "source": [
    "On se donne deux ensembles A et B de tuples de la forme\n",
    "\n",
    "```python\n",
    "(entier, valeur)\n",
    "```\n",
    "\n",
    "On vous demande d'écrire une fonction `intersect` qui retourne l'ensemble des objets `valeur` associés (dans A ou dans B) à un entier qui soit présent dans (un tuple de) A *et* dans (un tuple de) B."
   ]
  },
  {
   "cell_type": "code",
   "execution_count": null,
   "id": "86c17edd",
   "metadata": {},
   "outputs": [],
   "source": [
    "# un exemple\n",
    "from corrections.exo_intersect import exo_intersect\n",
    "exo_intersect.example()"
   ]
  },
  {
   "cell_type": "code",
   "execution_count": null,
   "id": "3a62f715",
   "metadata": {},
   "outputs": [],
   "source": []
  },
  {
   "cell_type": "code",
   "execution_count": null,
   "id": "afb37e89",
   "metadata": {},
   "outputs": [],
   "source": [
    "def intersect(A, B):\n",
    "    DA = dict(A)\n",
    "    DB = dict(B)\n",
    "    return set(aplatir({(DA[a], DB[a]) for a in DA\n",
    "            if a in DB}))"
   ]
  },
  {
   "cell_type": "code",
   "execution_count": null,
   "id": "10357c6e",
   "metadata": {},
   "outputs": [],
   "source": [
    "# pour vérifier votre code\n",
    "exo_intersect.correction(intersect)"
   ]
  },
  {
   "cell_type": "code",
   "execution_count": null,
   "id": "6f9b6373",
   "metadata": {},
   "outputs": [],
   "source": []
  }
 ],
 "metadata": {
  "jupytext": {
   "cell_metadata_filter": "all, -hidden, -heading_collapsed, -run_control, -trusted",
   "notebook_metadata_filter": "all, -jupytext.text_representation.jupytext_version, -jupytext.text_representation.format_version, -language_info.version, -language_info.codemirror_mode.version, -language_info.codemirror_mode, -language_info.file_extension, -language_info.mimetype, -toc",
   "text_representation": {
    "extension": ".md",
    "format_name": "myst"
   }
  },
  "kernelspec": {
   "display_name": "Python 3 (ipykernel)",
   "language": "python",
   "name": "python3"
  },
  "language_info": {
   "name": "python",
   "nbconvert_exporter": "python",
   "pygments_lexer": "ipython3"
  },
  "notebookname": "Compréhensions",
  "version": "3.0"
 },
 "nbformat": 4,
 "nbformat_minor": 5
}
